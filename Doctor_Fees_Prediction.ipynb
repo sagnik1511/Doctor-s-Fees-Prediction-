{
  "nbformat": 4,
  "nbformat_minor": 0,
  "metadata": {
    "colab": {
      "name": "Doctor_Fees_Prediction.ipynb",
      "provenance": [],
      "collapsed_sections": []
    },
    "kernelspec": {
      "display_name": "Python 3",
      "language": "python",
      "name": "python3"
    },
    "language_info": {
      "codemirror_mode": {
        "name": "ipython",
        "version": 3
      },
      "file_extension": ".py",
      "mimetype": "text/x-python",
      "name": "python",
      "nbconvert_exporter": "python",
      "pygments_lexer": "ipython3",
      "version": "3.7.4"
    }
  },
  "cells": [
    {
      "cell_type": "markdown",
      "metadata": {
        "id": "9ZcB_KMFZ85M"
      },
      "source": [
        "# Libraries"
      ]
    },
    {
      "cell_type": "code",
      "metadata": {
        "id": "AV-KcQJtWSv9"
      },
      "source": [
        "# for data processing\n",
        "\n",
        "import matplotlib.pyplot as plt\n",
        "import seaborn as sns\n",
        "import numpy as np\n",
        "import pandas as pd\n",
        "import re\n",
        "\n",
        "# for data pipeline --------------------\n",
        "\n",
        "from sklearn.model_selection import train_test_split\n",
        "from sklearn.metrics import*\n",
        "import matplotlib.pyplot as plt\n",
        "from sklearn.model_selection import*\n",
        "from sklearn.preprocessing import StandardScaler\n",
        "from sklearn.model_selection import train_test_split\n",
        "from sklearn.preprocessing import StandardScaler\n",
        "from sklearn.feature_selection import VarianceThreshold\n",
        "from sklearn.pipeline import make_pipeline\n",
        "from sklearn.feature_extraction.text import TfidfVectorizer\n",
        "from sklearn.decomposition import TruncatedSVD\n",
        "\n",
        "# for prediction (machine learning models) ------------------------\n",
        "\n",
        "from sklearn.linear_model import*\n",
        "from sklearn.preprocessing import*\n",
        "from sklearn.ensemble import*\n",
        "from sklearn.neighbors import*\n",
        "from sklearn import svm\n",
        "from sklearn.naive_bayes import*\n",
        "import xgboost as xgb"
      ],
      "execution_count": null,
      "outputs": []
    },
    {
      "cell_type": "markdown",
      "metadata": {
        "id": "hQvRJKPDaBcL"
      },
      "source": [
        "# Data gathering and post data preparation"
      ]
    },
    {
      "cell_type": "code",
      "metadata": {
        "id": "RmWo6HK3VBFS"
      },
      "source": [
        "train_path='/content/Final_Train.xlsx'\n",
        "test_path='/content/Final_Test.xlsx'"
      ],
      "execution_count": null,
      "outputs": []
    },
    {
      "cell_type": "code",
      "metadata": {
        "id": "1-xO9QzVXfHU"
      },
      "source": [
        "train=pd.read_excel(train_path)\n",
        "test=pd.read_excel(test_path)"
      ],
      "execution_count": null,
      "outputs": []
    },
    {
      "cell_type": "markdown",
      "metadata": {
        "id": "TGWU2q4WaNHr"
      },
      "source": [
        "#### Primary Visualizations"
      ]
    },
    {
      "cell_type": "code",
      "metadata": {
        "colab": {
          "base_uri": "https://localhost:8080/",
          "height": 204
        },
        "id": "7bx868JGX8D8",
        "outputId": "ec371f26-694d-4e55-8bbf-97daaf3d42a2"
      },
      "source": [
        "train.head()"
      ],
      "execution_count": null,
      "outputs": [
        {
          "output_type": "execute_result",
          "data": {
            "text/html": [
              "<div>\n",
              "<style scoped>\n",
              "    .dataframe tbody tr th:only-of-type {\n",
              "        vertical-align: middle;\n",
              "    }\n",
              "\n",
              "    .dataframe tbody tr th {\n",
              "        vertical-align: top;\n",
              "    }\n",
              "\n",
              "    .dataframe thead th {\n",
              "        text-align: right;\n",
              "    }\n",
              "</style>\n",
              "<table border=\"1\" class=\"dataframe\">\n",
              "  <thead>\n",
              "    <tr style=\"text-align: right;\">\n",
              "      <th></th>\n",
              "      <th>Qualification</th>\n",
              "      <th>Experience</th>\n",
              "      <th>Rating</th>\n",
              "      <th>Place</th>\n",
              "      <th>Profile</th>\n",
              "      <th>Miscellaneous_Info</th>\n",
              "      <th>Fees</th>\n",
              "    </tr>\n",
              "  </thead>\n",
              "  <tbody>\n",
              "    <tr>\n",
              "      <th>0</th>\n",
              "      <td>BHMS, MD - Homeopathy</td>\n",
              "      <td>24 years experience</td>\n",
              "      <td>100%</td>\n",
              "      <td>Kakkanad, Ernakulam</td>\n",
              "      <td>Homeopath</td>\n",
              "      <td>100% 16 Feedback Kakkanad, Ernakulam</td>\n",
              "      <td>100</td>\n",
              "    </tr>\n",
              "    <tr>\n",
              "      <th>1</th>\n",
              "      <td>BAMS, MD - Ayurveda Medicine</td>\n",
              "      <td>12 years experience</td>\n",
              "      <td>98%</td>\n",
              "      <td>Whitefield, Bangalore</td>\n",
              "      <td>Ayurveda</td>\n",
              "      <td>98% 76 Feedback Whitefield, Bangalore</td>\n",
              "      <td>350</td>\n",
              "    </tr>\n",
              "    <tr>\n",
              "      <th>2</th>\n",
              "      <td>MBBS, MS - Otorhinolaryngology</td>\n",
              "      <td>9 years experience</td>\n",
              "      <td>NaN</td>\n",
              "      <td>Mathikere - BEL, Bangalore</td>\n",
              "      <td>ENT Specialist</td>\n",
              "      <td>NaN</td>\n",
              "      <td>300</td>\n",
              "    </tr>\n",
              "    <tr>\n",
              "      <th>3</th>\n",
              "      <td>BSc - Zoology, BAMS</td>\n",
              "      <td>12 years experience</td>\n",
              "      <td>NaN</td>\n",
              "      <td>Bannerghatta Road, Bangalore</td>\n",
              "      <td>Ayurveda</td>\n",
              "      <td>Bannerghatta Road, Bangalore ₹250 Available on...</td>\n",
              "      <td>250</td>\n",
              "    </tr>\n",
              "    <tr>\n",
              "      <th>4</th>\n",
              "      <td>BAMS</td>\n",
              "      <td>20 years experience</td>\n",
              "      <td>100%</td>\n",
              "      <td>Keelkattalai, Chennai</td>\n",
              "      <td>Ayurveda</td>\n",
              "      <td>100% 4 Feedback Keelkattalai, Chennai</td>\n",
              "      <td>250</td>\n",
              "    </tr>\n",
              "  </tbody>\n",
              "</table>\n",
              "</div>"
            ],
            "text/plain": [
              "                    Qualification  ... Fees\n",
              "0           BHMS, MD - Homeopathy  ...  100\n",
              "1    BAMS, MD - Ayurveda Medicine  ...  350\n",
              "2  MBBS, MS - Otorhinolaryngology  ...  300\n",
              "3             BSc - Zoology, BAMS  ...  250\n",
              "4                            BAMS  ...  250\n",
              "\n",
              "[5 rows x 7 columns]"
            ]
          },
          "metadata": {
            "tags": []
          },
          "execution_count": 64
        }
      ]
    },
    {
      "cell_type": "code",
      "metadata": {
        "colab": {
          "base_uri": "https://localhost:8080/"
        },
        "id": "OgZGy0ivYBTr",
        "outputId": "399c7a6a-b243-4c81-aa44-5594eb95cba4"
      },
      "source": [
        "train.info()"
      ],
      "execution_count": null,
      "outputs": [
        {
          "output_type": "stream",
          "text": [
            "<class 'pandas.core.frame.DataFrame'>\n",
            "RangeIndex: 5961 entries, 0 to 5960\n",
            "Data columns (total 7 columns):\n",
            " #   Column              Non-Null Count  Dtype \n",
            "---  ------              --------------  ----- \n",
            " 0   Qualification       5961 non-null   object\n",
            " 1   Experience          5961 non-null   object\n",
            " 2   Rating              2659 non-null   object\n",
            " 3   Place               5936 non-null   object\n",
            " 4   Profile             5961 non-null   object\n",
            " 5   Miscellaneous_Info  3341 non-null   object\n",
            " 6   Fees                5961 non-null   int64 \n",
            "dtypes: int64(1), object(6)\n",
            "memory usage: 326.1+ KB\n"
          ],
          "name": "stdout"
        }
      ]
    },
    {
      "cell_type": "code",
      "metadata": {
        "colab": {
          "base_uri": "https://localhost:8080/",
          "height": 204
        },
        "id": "0B309J6tYG8b",
        "outputId": "678608b6-1110-417f-8e89-7d98be61dede"
      },
      "source": [
        "test.head()"
      ],
      "execution_count": null,
      "outputs": [
        {
          "output_type": "execute_result",
          "data": {
            "text/html": [
              "<div>\n",
              "<style scoped>\n",
              "    .dataframe tbody tr th:only-of-type {\n",
              "        vertical-align: middle;\n",
              "    }\n",
              "\n",
              "    .dataframe tbody tr th {\n",
              "        vertical-align: top;\n",
              "    }\n",
              "\n",
              "    .dataframe thead th {\n",
              "        text-align: right;\n",
              "    }\n",
              "</style>\n",
              "<table border=\"1\" class=\"dataframe\">\n",
              "  <thead>\n",
              "    <tr style=\"text-align: right;\">\n",
              "      <th></th>\n",
              "      <th>Qualification</th>\n",
              "      <th>Experience</th>\n",
              "      <th>Rating</th>\n",
              "      <th>Place</th>\n",
              "      <th>Profile</th>\n",
              "      <th>Miscellaneous_Info</th>\n",
              "    </tr>\n",
              "  </thead>\n",
              "  <tbody>\n",
              "    <tr>\n",
              "      <th>0</th>\n",
              "      <td>MBBS</td>\n",
              "      <td>35 years experience</td>\n",
              "      <td>NaN</td>\n",
              "      <td>Ghatkopar East, Mumbai</td>\n",
              "      <td>General Medicine</td>\n",
              "      <td>NaN</td>\n",
              "    </tr>\n",
              "    <tr>\n",
              "      <th>1</th>\n",
              "      <td>MBBS, Diploma in Otorhinolaryngology (DLO)</td>\n",
              "      <td>31 years experience</td>\n",
              "      <td>NaN</td>\n",
              "      <td>West Marredpally, Hyderabad</td>\n",
              "      <td>ENT Specialist</td>\n",
              "      <td>NaN</td>\n",
              "    </tr>\n",
              "    <tr>\n",
              "      <th>2</th>\n",
              "      <td>MBBS, DDVL</td>\n",
              "      <td>40 years experience</td>\n",
              "      <td>70%</td>\n",
              "      <td>KK Nagar, Chennai</td>\n",
              "      <td>Dermatologists</td>\n",
              "      <td>70% 4 Feedback KK Nagar, Chennai</td>\n",
              "    </tr>\n",
              "    <tr>\n",
              "      <th>3</th>\n",
              "      <td>BAMS</td>\n",
              "      <td>0 years experience</td>\n",
              "      <td>NaN</td>\n",
              "      <td>New Ashok Nagar, Delhi</td>\n",
              "      <td>Ayurveda</td>\n",
              "      <td>NaN</td>\n",
              "    </tr>\n",
              "    <tr>\n",
              "      <th>4</th>\n",
              "      <td>BDS, MDS - Conservative Dentistry &amp; Endodontics</td>\n",
              "      <td>16 years experience</td>\n",
              "      <td>100%</td>\n",
              "      <td>Kanakpura Road, Bangalore</td>\n",
              "      <td>Dentist</td>\n",
              "      <td>General Dentistry Conservative Dentistry Cosme...</td>\n",
              "    </tr>\n",
              "  </tbody>\n",
              "</table>\n",
              "</div>"
            ],
            "text/plain": [
              "                                     Qualification  ...                                 Miscellaneous_Info\n",
              "0                                             MBBS  ...                                                NaN\n",
              "1       MBBS, Diploma in Otorhinolaryngology (DLO)  ...                                                NaN\n",
              "2                                       MBBS, DDVL  ...                   70% 4 Feedback KK Nagar, Chennai\n",
              "3                                             BAMS  ...                                                NaN\n",
              "4  BDS, MDS - Conservative Dentistry & Endodontics  ...  General Dentistry Conservative Dentistry Cosme...\n",
              "\n",
              "[5 rows x 6 columns]"
            ]
          },
          "metadata": {
            "tags": []
          },
          "execution_count": 67
        }
      ]
    },
    {
      "cell_type": "code",
      "metadata": {
        "colab": {
          "base_uri": "https://localhost:8080/"
        },
        "id": "AyZ-C6lEYJn7",
        "outputId": "de49f917-2214-48f8-f4e1-ed1cb31ed070"
      },
      "source": [
        "test.info()"
      ],
      "execution_count": null,
      "outputs": [
        {
          "output_type": "stream",
          "text": [
            "<class 'pandas.core.frame.DataFrame'>\n",
            "RangeIndex: 1987 entries, 0 to 1986\n",
            "Data columns (total 6 columns):\n",
            " #   Column              Non-Null Count  Dtype \n",
            "---  ------              --------------  ----- \n",
            " 0   Qualification       1987 non-null   object\n",
            " 1   Experience          1987 non-null   object\n",
            " 2   Rating              897 non-null    object\n",
            " 3   Place               1981 non-null   object\n",
            " 4   Profile             1987 non-null   object\n",
            " 5   Miscellaneous_Info  1153 non-null   object\n",
            "dtypes: object(6)\n",
            "memory usage: 93.3+ KB\n"
          ],
          "name": "stdout"
        }
      ]
    },
    {
      "cell_type": "markdown",
      "metadata": {
        "id": "dVglD9UmaXsj"
      },
      "source": [
        "# Pre-processing"
      ]
    },
    {
      "cell_type": "markdown",
      "metadata": {
        "id": "x3FM6qbqafoD"
      },
      "source": [
        "**Miscellaneaous column**\n",
        "\n",
        "          As the column holds special infomation and blank spaces also, we are going to treat all the non-null as '1' and others as '0'."
      ]
    },
    {
      "cell_type": "code",
      "metadata": {
        "id": "bnFJj_gYaaRC"
      },
      "source": [
        "for i in train['Miscellaneous_Info'].value_counts().index:\n",
        "  train['Miscellaneous_Info'].replace(i,int(1),inplace=True)\n",
        "train['Miscellaneous_Info'].fillna(int(0),inplace=True)\n",
        "\n",
        "for i in test['Miscellaneous_Info'].value_counts().index:\n",
        "  test['Miscellaneous_Info'].replace(i,int(1),inplace=True)\n",
        "test['Miscellaneous_Info'].fillna(int(0),inplace=True)"
      ],
      "execution_count": null,
      "outputs": []
    },
    {
      "cell_type": "markdown",
      "metadata": {
        "id": "bogn970qcPNj"
      },
      "source": [
        "**Experience**\n",
        "\n",
        "      We'll discard all the texts and only put the numeric value ther."
      ]
    },
    {
      "cell_type": "code",
      "metadata": {
        "id": "zaTrl5RVb9e8"
      },
      "source": [
        "for i in train['Experience'].value_counts().index:\n",
        "  ww=i.split()\n",
        "  train['Experience'].replace(i,int(ww[0]),inplace=True)\n",
        "\n",
        "for i in test['Experience'].value_counts().index:\n",
        "  ww=i.split()\n",
        "  test['Experience'].replace(i,int(ww[0]),inplace=True)"
      ],
      "execution_count": null,
      "outputs": []
    },
    {
      "cell_type": "markdown",
      "metadata": {
        "id": "IbUDIL1vg2Ue"
      },
      "source": [
        "**Place**\n",
        "\n",
        "    We will split the area and the city into two different features as they can give us hints about the fees."
      ]
    },
    {
      "cell_type": "markdown",
      "metadata": {
        "id": "f8SyoC4hhZs8"
      },
      "source": [
        "At first we are going to fill the null values with *(None,None)*"
      ]
    },
    {
      "cell_type": "code",
      "metadata": {
        "id": "sTIBCJQxeHRk"
      },
      "source": [
        "train['Place'].fillna('None,None',inplace=True)\n",
        "test['Place'].fillna('None,None',inplace=True)"
      ],
      "execution_count": null,
      "outputs": []
    },
    {
      "cell_type": "markdown",
      "metadata": {
        "id": "DE0YS0XfhsH7"
      },
      "source": [
        "Now we are going separate the comma separated two types-city and area."
      ]
    },
    {
      "cell_type": "code",
      "metadata": {
        "id": "SNvl7f76hyUL"
      },
      "source": [
        "train['Area']=train['Place'].str.rsplit(',',1).str.get(0)\n",
        "train['City']=train['Place'].str.rsplit(',',1).str.get(1)\n",
        "test['Area']=test['Place'].str.rsplit(',',1).str.get(0)\n",
        "test['City']=test['Place'].str.split(',',1).str.get(1)\n",
        "\n",
        "train['City']=train['City'].str.strip()\n",
        "test['City']=test['City'].str.strip()"
      ],
      "execution_count": null,
      "outputs": []
    },
    {
      "cell_type": "code",
      "metadata": {
        "colab": {
          "base_uri": "https://localhost:8080/"
        },
        "id": "AHfpgFAKiN7b",
        "outputId": "830bdd06-2352-4af1-d4f7-af51bcf67234"
      },
      "source": [
        "train['Area'].isnull().sum(),test['Area'].isnull().sum(),train['City'].isnull().sum(),test['City'].isnull().sum()"
      ],
      "execution_count": null,
      "outputs": [
        {
          "output_type": "execute_result",
          "data": {
            "text/plain": [
              "(0, 0, 1, 0)"
            ]
          },
          "metadata": {
            "tags": []
          },
          "execution_count": 73
        }
      ]
    },
    {
      "cell_type": "code",
      "metadata": {
        "colab": {
          "base_uri": "https://localhost:8080/",
          "height": 80
        },
        "id": "H6WxF2Gbjixl",
        "outputId": "22a8a402-d6a0-43bd-ccb8-37a0080da3d5"
      },
      "source": [
        "train[train['City'].isnull()]"
      ],
      "execution_count": null,
      "outputs": [
        {
          "output_type": "execute_result",
          "data": {
            "text/html": [
              "<div>\n",
              "<style scoped>\n",
              "    .dataframe tbody tr th:only-of-type {\n",
              "        vertical-align: middle;\n",
              "    }\n",
              "\n",
              "    .dataframe tbody tr th {\n",
              "        vertical-align: top;\n",
              "    }\n",
              "\n",
              "    .dataframe thead th {\n",
              "        text-align: right;\n",
              "    }\n",
              "</style>\n",
              "<table border=\"1\" class=\"dataframe\">\n",
              "  <thead>\n",
              "    <tr style=\"text-align: right;\">\n",
              "      <th></th>\n",
              "      <th>Qualification</th>\n",
              "      <th>Experience</th>\n",
              "      <th>Rating</th>\n",
              "      <th>Place</th>\n",
              "      <th>Profile</th>\n",
              "      <th>Miscellaneous_Info</th>\n",
              "      <th>Fees</th>\n",
              "      <th>Area</th>\n",
              "      <th>City</th>\n",
              "    </tr>\n",
              "  </thead>\n",
              "  <tbody>\n",
              "    <tr>\n",
              "      <th>3980</th>\n",
              "      <td>BDS</td>\n",
              "      <td>23</td>\n",
              "      <td>NaN</td>\n",
              "      <td>e</td>\n",
              "      <td>Dentist</td>\n",
              "      <td>0.0</td>\n",
              "      <td>250</td>\n",
              "      <td>e</td>\n",
              "      <td>NaN</td>\n",
              "    </tr>\n",
              "  </tbody>\n",
              "</table>\n",
              "</div>"
            ],
            "text/plain": [
              "     Qualification  Experience Rating Place  ... Miscellaneous_Info  Fees  Area City\n",
              "3980           BDS          23    NaN     e  ...                0.0   250     e  NaN\n",
              "\n",
              "[1 rows x 9 columns]"
            ]
          },
          "metadata": {
            "tags": []
          },
          "execution_count": 74
        }
      ]
    },
    {
      "cell_type": "markdown",
      "metadata": {
        "id": "3q70ekZ6ixc0"
      },
      "source": [
        "we are going to make this column '*None*' for city and area both"
      ]
    },
    {
      "cell_type": "code",
      "metadata": {
        "id": "4w1bmLcPj9uG"
      },
      "source": [
        "train.loc[train['City'].isnull(),'Area']='None'\n",
        "train['City']=train['City'].fillna('None')"
      ],
      "execution_count": null,
      "outputs": []
    },
    {
      "cell_type": "code",
      "metadata": {
        "colab": {
          "base_uri": "https://localhost:8080/"
        },
        "id": "36fEDiDfkJtT",
        "outputId": "ab3bf3e2-75da-40d0-db5e-39f78486c447"
      },
      "source": [
        "train['Area'].isnull().sum(),test['Area'].isnull().sum(),train['City'].isnull().sum(),test['City'].isnull().sum()"
      ],
      "execution_count": null,
      "outputs": [
        {
          "output_type": "execute_result",
          "data": {
            "text/plain": [
              "(0, 0, 0, 0)"
            ]
          },
          "metadata": {
            "tags": []
          },
          "execution_count": 76
        }
      ]
    },
    {
      "cell_type": "code",
      "metadata": {
        "id": "6W0plDurlaYe"
      },
      "source": [
        "train.drop('Place',1,inplace=True)\n",
        "test.drop('Place',1,inplace=True)\n"
      ],
      "execution_count": null,
      "outputs": []
    },
    {
      "cell_type": "markdown",
      "metadata": {
        "id": "2G38vl13l1vE"
      },
      "source": [
        "**Qualification**\n",
        "\n",
        "We are going to check which degrees the doctors have and then treat them as several features."
      ]
    },
    {
      "cell_type": "code",
      "metadata": {
        "colab": {
          "base_uri": "https://localhost:8080/"
        },
        "id": "KOGgoKR1oO08",
        "outputId": "eda29ed8-ad11-4503-f60a-992f86fe68d0"
      },
      "source": [
        "train['Qualification'].value_counts()[:30]"
      ],
      "execution_count": null,
      "outputs": [
        {
          "output_type": "execute_result",
          "data": {
            "text/plain": [
              "BDS                                                      488\n",
              "BHMS                                                     477\n",
              "BAMS                                                     471\n",
              "MBBS                                                     334\n",
              "MBBS, MS - ENT                                           220\n",
              "MBBS, MD - Dermatology                                   178\n",
              "MBBS, MD - General Medicine                              177\n",
              "MBBS, MD - Dermatology , Venereology & Leprosy           140\n",
              "BHMS, MD - Homeopathy                                     93\n",
              "MBBS, DDVL                                                92\n",
              "MBBS, Diploma in Otorhinolaryngology (DLO)                84\n",
              "BAMS, MD - Ayurveda Medicine                              82\n",
              "BDS, MDS - Conservative Dentistry & Endodontics           68\n",
              "MBBS, DDV                                                 66\n",
              "BDS, MDS                                                  63\n",
              "BDS, MDS - Oral & Maxillofacial Surgery                   57\n",
              "MD - Dermatology , Venereology & Leprosy, MBBS            52\n",
              "BDS, MDS - Prosthodontics                                 45\n",
              "MBBS, MS - Otorhinolaryngology                            44\n",
              "MBBS, MD - Internal Medicine                              43\n",
              "MBBS, MD - Medicine                                       41\n",
              "BDS, MDS - Orthodontics                                   41\n",
              "MS - ENT, MBBS                                            37\n",
              "BDS, MDS - Paedodontics And Preventive Dentistry          32\n",
              "MBBS, Diploma in Dermatology                              31\n",
              "MD - Dermatology, MBBS                                    31\n",
              "BDS, MDS - Orthodontics and Dentofacial Orthopaedics      29\n",
              "BDS, MDS - Periodontology and Oral Implantology           29\n",
              "MBBS, Diploma in Otorhinolaryngology (DLO), DNB - ENT     27\n",
              "BDS, MDS - Pedodontics                                    25\n",
              "Name: Qualification, dtype: int64"
            ]
          },
          "metadata": {
            "tags": []
          },
          "execution_count": 78
        }
      ]
    },
    {
      "cell_type": "markdown",
      "metadata": {
        "id": "CvExCDnorzL2"
      },
      "source": [
        "We can see that - \n",
        "    \n",
        "    MBBS,BDS,BAMS,MD,BHMS,Fellowship,DLO,MLO,DNB,DDVL,MS  , these qualifications are present in a very high number. \n",
        "    So, we are going to add features of those and add values '1' or '0' as if they are present or not.\n"
      ]
    },
    {
      "cell_type": "code",
      "metadata": {
        "id": "vFqC9YZIpfe9"
      },
      "source": [
        "# func to make feature \n",
        "def fun(arr,string):\n",
        "  for data in dat:\n",
        "    if data.find(string) !=-1:\n",
        "      arr.append(int(1))\n",
        "    else :\n",
        "      arr.append(int(0))\n",
        "def to_df(lst):\n",
        "  lst=pd.DataFrame(lst)\n",
        "  return lst\n",
        "\n",
        "cols=['mbbs','bhms','bams','ddvl','dlo','mlo','dnb','bds','md','ms','fellowship']"
      ],
      "execution_count": null,
      "outputs": []
    },
    {
      "cell_type": "code",
      "metadata": {
        "colab": {
          "base_uri": "https://localhost:8080/",
          "height": 204
        },
        "id": "-kJClHDIpuz0",
        "outputId": "44ad730c-bc0f-4095-ce66-3989585034fa"
      },
      "source": [
        "dat=train['Qualification']\n",
        "\n",
        "mbbs=[]\n",
        "bds=[]\n",
        "bams=[]\n",
        "md=[]\n",
        "bhms=[]\n",
        "fellowship=[]\n",
        "dlo=[]\n",
        "mlo=[]\n",
        "dnb=[]\n",
        "ddvl=[]\n",
        "ms=[]\n",
        "\n",
        "fun(mbbs,'MBBS')\n",
        "fun(bds,'BDS')\n",
        "fun(bams,'BAMS')\n",
        "fun(md,'MD')\n",
        "fun(bhms,'BHMS')\n",
        "fun(fellowship,'Fellowship')\n",
        "fun(dlo,'DLO')\n",
        "fun(mlo,'MLO')\n",
        "fun(dnb,'DNB')\n",
        "fun(ddvl,'DDVL')\n",
        "fun(ms,'MS')\n",
        "\n",
        "mbbs=to_df(mbbs)\n",
        "bds=to_df(bds)\n",
        "bams=to_df(bams)\n",
        "md=to_df(md)\n",
        "bhms=to_df(bhms)\n",
        "fellowship=to_df(fellowship)\n",
        "dlo=to_df(dlo)\n",
        "mlo=to_df(mlo)\n",
        "dnb=to_df(dnb)\n",
        "ddvl=to_df(ddvl)\n",
        "ms=to_df(ms)\n",
        "\n",
        "train.drop('Qualification',1,inplace=True)\n",
        "train=pd.concat([mbbs,bhms,bams,ddvl,dlo,mlo,dnb,bds,md,ms,fellowship,train],axis=1)\n",
        "\n",
        "mx=train.columns[11:]\n",
        "for i in mx:\n",
        "  cols.append(i)\n",
        "train.columns=cols\n",
        "train.head()"
      ],
      "execution_count": null,
      "outputs": [
        {
          "output_type": "execute_result",
          "data": {
            "text/html": [
              "<div>\n",
              "<style scoped>\n",
              "    .dataframe tbody tr th:only-of-type {\n",
              "        vertical-align: middle;\n",
              "    }\n",
              "\n",
              "    .dataframe tbody tr th {\n",
              "        vertical-align: top;\n",
              "    }\n",
              "\n",
              "    .dataframe thead th {\n",
              "        text-align: right;\n",
              "    }\n",
              "</style>\n",
              "<table border=\"1\" class=\"dataframe\">\n",
              "  <thead>\n",
              "    <tr style=\"text-align: right;\">\n",
              "      <th></th>\n",
              "      <th>mbbs</th>\n",
              "      <th>bhms</th>\n",
              "      <th>bams</th>\n",
              "      <th>ddvl</th>\n",
              "      <th>dlo</th>\n",
              "      <th>mlo</th>\n",
              "      <th>dnb</th>\n",
              "      <th>bds</th>\n",
              "      <th>md</th>\n",
              "      <th>ms</th>\n",
              "      <th>fellowship</th>\n",
              "      <th>Experience</th>\n",
              "      <th>Rating</th>\n",
              "      <th>Profile</th>\n",
              "      <th>Miscellaneous_Info</th>\n",
              "      <th>Fees</th>\n",
              "      <th>Area</th>\n",
              "      <th>City</th>\n",
              "    </tr>\n",
              "  </thead>\n",
              "  <tbody>\n",
              "    <tr>\n",
              "      <th>0</th>\n",
              "      <td>0</td>\n",
              "      <td>1</td>\n",
              "      <td>0</td>\n",
              "      <td>0</td>\n",
              "      <td>0</td>\n",
              "      <td>0</td>\n",
              "      <td>0</td>\n",
              "      <td>0</td>\n",
              "      <td>1</td>\n",
              "      <td>1</td>\n",
              "      <td>0</td>\n",
              "      <td>24</td>\n",
              "      <td>100%</td>\n",
              "      <td>Homeopath</td>\n",
              "      <td>1.0</td>\n",
              "      <td>100</td>\n",
              "      <td>Kakkanad</td>\n",
              "      <td>Ernakulam</td>\n",
              "    </tr>\n",
              "    <tr>\n",
              "      <th>1</th>\n",
              "      <td>0</td>\n",
              "      <td>0</td>\n",
              "      <td>1</td>\n",
              "      <td>0</td>\n",
              "      <td>0</td>\n",
              "      <td>0</td>\n",
              "      <td>0</td>\n",
              "      <td>0</td>\n",
              "      <td>1</td>\n",
              "      <td>1</td>\n",
              "      <td>0</td>\n",
              "      <td>12</td>\n",
              "      <td>98%</td>\n",
              "      <td>Ayurveda</td>\n",
              "      <td>1.0</td>\n",
              "      <td>350</td>\n",
              "      <td>Whitefield</td>\n",
              "      <td>Bangalore</td>\n",
              "    </tr>\n",
              "    <tr>\n",
              "      <th>2</th>\n",
              "      <td>1</td>\n",
              "      <td>0</td>\n",
              "      <td>0</td>\n",
              "      <td>0</td>\n",
              "      <td>0</td>\n",
              "      <td>0</td>\n",
              "      <td>0</td>\n",
              "      <td>0</td>\n",
              "      <td>0</td>\n",
              "      <td>1</td>\n",
              "      <td>0</td>\n",
              "      <td>9</td>\n",
              "      <td>NaN</td>\n",
              "      <td>ENT Specialist</td>\n",
              "      <td>0.0</td>\n",
              "      <td>300</td>\n",
              "      <td>Mathikere - BEL</td>\n",
              "      <td>Bangalore</td>\n",
              "    </tr>\n",
              "    <tr>\n",
              "      <th>3</th>\n",
              "      <td>0</td>\n",
              "      <td>0</td>\n",
              "      <td>1</td>\n",
              "      <td>0</td>\n",
              "      <td>0</td>\n",
              "      <td>0</td>\n",
              "      <td>0</td>\n",
              "      <td>0</td>\n",
              "      <td>0</td>\n",
              "      <td>1</td>\n",
              "      <td>0</td>\n",
              "      <td>12</td>\n",
              "      <td>NaN</td>\n",
              "      <td>Ayurveda</td>\n",
              "      <td>1.0</td>\n",
              "      <td>250</td>\n",
              "      <td>Bannerghatta Road</td>\n",
              "      <td>Bangalore</td>\n",
              "    </tr>\n",
              "    <tr>\n",
              "      <th>4</th>\n",
              "      <td>0</td>\n",
              "      <td>0</td>\n",
              "      <td>1</td>\n",
              "      <td>0</td>\n",
              "      <td>0</td>\n",
              "      <td>0</td>\n",
              "      <td>0</td>\n",
              "      <td>0</td>\n",
              "      <td>0</td>\n",
              "      <td>1</td>\n",
              "      <td>0</td>\n",
              "      <td>20</td>\n",
              "      <td>100%</td>\n",
              "      <td>Ayurveda</td>\n",
              "      <td>1.0</td>\n",
              "      <td>250</td>\n",
              "      <td>Keelkattalai</td>\n",
              "      <td>Chennai</td>\n",
              "    </tr>\n",
              "  </tbody>\n",
              "</table>\n",
              "</div>"
            ],
            "text/plain": [
              "   mbbs  bhms  bams  ...  Fees               Area       City\n",
              "0     0     1     0  ...   100           Kakkanad  Ernakulam\n",
              "1     0     0     1  ...   350         Whitefield  Bangalore\n",
              "2     1     0     0  ...   300    Mathikere - BEL  Bangalore\n",
              "3     0     0     1  ...   250  Bannerghatta Road  Bangalore\n",
              "4     0     0     1  ...   250       Keelkattalai    Chennai\n",
              "\n",
              "[5 rows x 18 columns]"
            ]
          },
          "metadata": {
            "tags": []
          },
          "execution_count": 80
        }
      ]
    },
    {
      "cell_type": "code",
      "metadata": {
        "colab": {
          "base_uri": "https://localhost:8080/",
          "height": 204
        },
        "id": "Bogj_hXyyoaI",
        "outputId": "a637eca2-e7c3-45be-968f-d9603366054c"
      },
      "source": [
        "dat=test['Qualification']\n",
        "mbbs=[]\n",
        "bds=[]\n",
        "bams=[]\n",
        "md=[]\n",
        "bhms=[]\n",
        "fellowship=[]\n",
        "dlo=[]\n",
        "mlo=[]\n",
        "dnb=[]\n",
        "ddvl=[]\n",
        "ms=[]\n",
        "\n",
        "dat=test['Qualification']\n",
        "fun(mbbs,'MBBS')\n",
        "fun(bds,'BDS')\n",
        "fun(bams,'BAMS')\n",
        "fun(md,'MD')\n",
        "fun(bhms,'BHMS')\n",
        "fun(fellowship,'Fellowship')\n",
        "fun(dlo,'DLO')\n",
        "fun(mlo,'MLO')\n",
        "fun(dnb,'DNB')\n",
        "fun(ddvl,'DDVL')\n",
        "fun(ms,'MS')\n",
        "\n",
        "mbbs=to_df(mbbs)\n",
        "bds=to_df(bds)\n",
        "bams=to_df(bams)\n",
        "md=to_df(md)\n",
        "bhms=to_df(bhms)\n",
        "fellowship=to_df(fellowship)\n",
        "dlo=to_df(dlo)\n",
        "mlo=to_df(mlo)\n",
        "dnb=to_df(dnb)\n",
        "ddvl=to_df(ddvl)\n",
        "ms=to_df(ms)\n",
        "\n",
        "test.drop('Qualification',1,inplace=True)\n",
        "test=pd.concat([mbbs,bhms,bams,ddvl,dlo,mlo,dnb,bds,md,ms,fellowship,test],axis=1)\n",
        "\n",
        "cols=['mbbs','bhms','bams','ddvl','dlo','mlo','dnb','bds','md','ms','fellowship']\n",
        "mx=test.columns[11:]\n",
        "for i in mx:\n",
        "  cols.append(i)\n",
        "\n",
        "test.columns=cols\n",
        "test.head()"
      ],
      "execution_count": null,
      "outputs": [
        {
          "output_type": "execute_result",
          "data": {
            "text/html": [
              "<div>\n",
              "<style scoped>\n",
              "    .dataframe tbody tr th:only-of-type {\n",
              "        vertical-align: middle;\n",
              "    }\n",
              "\n",
              "    .dataframe tbody tr th {\n",
              "        vertical-align: top;\n",
              "    }\n",
              "\n",
              "    .dataframe thead th {\n",
              "        text-align: right;\n",
              "    }\n",
              "</style>\n",
              "<table border=\"1\" class=\"dataframe\">\n",
              "  <thead>\n",
              "    <tr style=\"text-align: right;\">\n",
              "      <th></th>\n",
              "      <th>mbbs</th>\n",
              "      <th>bhms</th>\n",
              "      <th>bams</th>\n",
              "      <th>ddvl</th>\n",
              "      <th>dlo</th>\n",
              "      <th>mlo</th>\n",
              "      <th>dnb</th>\n",
              "      <th>bds</th>\n",
              "      <th>md</th>\n",
              "      <th>ms</th>\n",
              "      <th>fellowship</th>\n",
              "      <th>Experience</th>\n",
              "      <th>Rating</th>\n",
              "      <th>Profile</th>\n",
              "      <th>Miscellaneous_Info</th>\n",
              "      <th>Area</th>\n",
              "      <th>City</th>\n",
              "    </tr>\n",
              "  </thead>\n",
              "  <tbody>\n",
              "    <tr>\n",
              "      <th>0</th>\n",
              "      <td>1</td>\n",
              "      <td>0</td>\n",
              "      <td>0</td>\n",
              "      <td>0</td>\n",
              "      <td>0</td>\n",
              "      <td>0</td>\n",
              "      <td>0</td>\n",
              "      <td>0</td>\n",
              "      <td>0</td>\n",
              "      <td>0</td>\n",
              "      <td>0</td>\n",
              "      <td>35</td>\n",
              "      <td>NaN</td>\n",
              "      <td>General Medicine</td>\n",
              "      <td>0.0</td>\n",
              "      <td>Ghatkopar East</td>\n",
              "      <td>Mumbai</td>\n",
              "    </tr>\n",
              "    <tr>\n",
              "      <th>1</th>\n",
              "      <td>1</td>\n",
              "      <td>0</td>\n",
              "      <td>0</td>\n",
              "      <td>0</td>\n",
              "      <td>1</td>\n",
              "      <td>0</td>\n",
              "      <td>0</td>\n",
              "      <td>0</td>\n",
              "      <td>0</td>\n",
              "      <td>0</td>\n",
              "      <td>0</td>\n",
              "      <td>31</td>\n",
              "      <td>NaN</td>\n",
              "      <td>ENT Specialist</td>\n",
              "      <td>0.0</td>\n",
              "      <td>West Marredpally</td>\n",
              "      <td>Hyderabad</td>\n",
              "    </tr>\n",
              "    <tr>\n",
              "      <th>2</th>\n",
              "      <td>1</td>\n",
              "      <td>0</td>\n",
              "      <td>0</td>\n",
              "      <td>1</td>\n",
              "      <td>0</td>\n",
              "      <td>0</td>\n",
              "      <td>0</td>\n",
              "      <td>0</td>\n",
              "      <td>0</td>\n",
              "      <td>0</td>\n",
              "      <td>0</td>\n",
              "      <td>40</td>\n",
              "      <td>70%</td>\n",
              "      <td>Dermatologists</td>\n",
              "      <td>1.0</td>\n",
              "      <td>KK Nagar</td>\n",
              "      <td>Chennai</td>\n",
              "    </tr>\n",
              "    <tr>\n",
              "      <th>3</th>\n",
              "      <td>0</td>\n",
              "      <td>0</td>\n",
              "      <td>1</td>\n",
              "      <td>0</td>\n",
              "      <td>0</td>\n",
              "      <td>0</td>\n",
              "      <td>0</td>\n",
              "      <td>0</td>\n",
              "      <td>0</td>\n",
              "      <td>1</td>\n",
              "      <td>0</td>\n",
              "      <td>0</td>\n",
              "      <td>NaN</td>\n",
              "      <td>Ayurveda</td>\n",
              "      <td>0.0</td>\n",
              "      <td>New Ashok Nagar</td>\n",
              "      <td>Delhi</td>\n",
              "    </tr>\n",
              "    <tr>\n",
              "      <th>4</th>\n",
              "      <td>0</td>\n",
              "      <td>0</td>\n",
              "      <td>0</td>\n",
              "      <td>0</td>\n",
              "      <td>0</td>\n",
              "      <td>0</td>\n",
              "      <td>0</td>\n",
              "      <td>1</td>\n",
              "      <td>1</td>\n",
              "      <td>0</td>\n",
              "      <td>0</td>\n",
              "      <td>16</td>\n",
              "      <td>100%</td>\n",
              "      <td>Dentist</td>\n",
              "      <td>1.0</td>\n",
              "      <td>Kanakpura Road</td>\n",
              "      <td>Bangalore</td>\n",
              "    </tr>\n",
              "  </tbody>\n",
              "</table>\n",
              "</div>"
            ],
            "text/plain": [
              "   mbbs  bhms  bams  ...  Miscellaneous_Info              Area       City\n",
              "0     1     0     0  ...                 0.0    Ghatkopar East     Mumbai\n",
              "1     1     0     0  ...                 0.0  West Marredpally  Hyderabad\n",
              "2     1     0     0  ...                 1.0          KK Nagar    Chennai\n",
              "3     0     0     1  ...                 0.0   New Ashok Nagar      Delhi\n",
              "4     0     0     0  ...                 1.0    Kanakpura Road  Bangalore\n",
              "\n",
              "[5 rows x 17 columns]"
            ]
          },
          "metadata": {
            "tags": []
          },
          "execution_count": 81
        }
      ]
    },
    {
      "cell_type": "markdown",
      "metadata": {
        "id": "P64npOJD2tzk"
      },
      "source": [
        "**Rating**\n",
        "\n",
        "As the rating column has many null values we are going to put their -99999% and after that we are going to change those percentages into numerical values."
      ]
    },
    {
      "cell_type": "code",
      "metadata": {
        "id": "UWh7KWiw26rK"
      },
      "source": [
        "train['Rating'].fillna('-99999%',inplace=True)\n",
        "test['Rating'].fillna('-99999%',inplace=True)\n",
        "\n",
        "for i in train['Rating'].value_counts().index:\n",
        "  train['Rating'].replace(i,int(i[:-1]),inplace=True)\n",
        "\n",
        "for i in test['Rating'].value_counts().index:\n",
        "  test['Rating'].replace(i,int(i[:-1]),inplace=True)"
      ],
      "execution_count": null,
      "outputs": []
    },
    {
      "cell_type": "code",
      "metadata": {
        "colab": {
          "base_uri": "https://localhost:8080/",
          "height": 204
        },
        "id": "EyZ6hCCg4vg9",
        "outputId": "b710caf4-d6a7-48e9-e46a-99de9c429c20"
      },
      "source": [
        "train.head()"
      ],
      "execution_count": null,
      "outputs": [
        {
          "output_type": "execute_result",
          "data": {
            "text/html": [
              "<div>\n",
              "<style scoped>\n",
              "    .dataframe tbody tr th:only-of-type {\n",
              "        vertical-align: middle;\n",
              "    }\n",
              "\n",
              "    .dataframe tbody tr th {\n",
              "        vertical-align: top;\n",
              "    }\n",
              "\n",
              "    .dataframe thead th {\n",
              "        text-align: right;\n",
              "    }\n",
              "</style>\n",
              "<table border=\"1\" class=\"dataframe\">\n",
              "  <thead>\n",
              "    <tr style=\"text-align: right;\">\n",
              "      <th></th>\n",
              "      <th>mbbs</th>\n",
              "      <th>bhms</th>\n",
              "      <th>bams</th>\n",
              "      <th>ddvl</th>\n",
              "      <th>dlo</th>\n",
              "      <th>mlo</th>\n",
              "      <th>dnb</th>\n",
              "      <th>bds</th>\n",
              "      <th>md</th>\n",
              "      <th>ms</th>\n",
              "      <th>fellowship</th>\n",
              "      <th>Experience</th>\n",
              "      <th>Rating</th>\n",
              "      <th>Profile</th>\n",
              "      <th>Miscellaneous_Info</th>\n",
              "      <th>Fees</th>\n",
              "      <th>Area</th>\n",
              "      <th>City</th>\n",
              "    </tr>\n",
              "  </thead>\n",
              "  <tbody>\n",
              "    <tr>\n",
              "      <th>0</th>\n",
              "      <td>0</td>\n",
              "      <td>1</td>\n",
              "      <td>0</td>\n",
              "      <td>0</td>\n",
              "      <td>0</td>\n",
              "      <td>0</td>\n",
              "      <td>0</td>\n",
              "      <td>0</td>\n",
              "      <td>1</td>\n",
              "      <td>1</td>\n",
              "      <td>0</td>\n",
              "      <td>24</td>\n",
              "      <td>100</td>\n",
              "      <td>Homeopath</td>\n",
              "      <td>1.0</td>\n",
              "      <td>100</td>\n",
              "      <td>Kakkanad</td>\n",
              "      <td>Ernakulam</td>\n",
              "    </tr>\n",
              "    <tr>\n",
              "      <th>1</th>\n",
              "      <td>0</td>\n",
              "      <td>0</td>\n",
              "      <td>1</td>\n",
              "      <td>0</td>\n",
              "      <td>0</td>\n",
              "      <td>0</td>\n",
              "      <td>0</td>\n",
              "      <td>0</td>\n",
              "      <td>1</td>\n",
              "      <td>1</td>\n",
              "      <td>0</td>\n",
              "      <td>12</td>\n",
              "      <td>98</td>\n",
              "      <td>Ayurveda</td>\n",
              "      <td>1.0</td>\n",
              "      <td>350</td>\n",
              "      <td>Whitefield</td>\n",
              "      <td>Bangalore</td>\n",
              "    </tr>\n",
              "    <tr>\n",
              "      <th>2</th>\n",
              "      <td>1</td>\n",
              "      <td>0</td>\n",
              "      <td>0</td>\n",
              "      <td>0</td>\n",
              "      <td>0</td>\n",
              "      <td>0</td>\n",
              "      <td>0</td>\n",
              "      <td>0</td>\n",
              "      <td>0</td>\n",
              "      <td>1</td>\n",
              "      <td>0</td>\n",
              "      <td>9</td>\n",
              "      <td>-99999</td>\n",
              "      <td>ENT Specialist</td>\n",
              "      <td>0.0</td>\n",
              "      <td>300</td>\n",
              "      <td>Mathikere - BEL</td>\n",
              "      <td>Bangalore</td>\n",
              "    </tr>\n",
              "    <tr>\n",
              "      <th>3</th>\n",
              "      <td>0</td>\n",
              "      <td>0</td>\n",
              "      <td>1</td>\n",
              "      <td>0</td>\n",
              "      <td>0</td>\n",
              "      <td>0</td>\n",
              "      <td>0</td>\n",
              "      <td>0</td>\n",
              "      <td>0</td>\n",
              "      <td>1</td>\n",
              "      <td>0</td>\n",
              "      <td>12</td>\n",
              "      <td>-99999</td>\n",
              "      <td>Ayurveda</td>\n",
              "      <td>1.0</td>\n",
              "      <td>250</td>\n",
              "      <td>Bannerghatta Road</td>\n",
              "      <td>Bangalore</td>\n",
              "    </tr>\n",
              "    <tr>\n",
              "      <th>4</th>\n",
              "      <td>0</td>\n",
              "      <td>0</td>\n",
              "      <td>1</td>\n",
              "      <td>0</td>\n",
              "      <td>0</td>\n",
              "      <td>0</td>\n",
              "      <td>0</td>\n",
              "      <td>0</td>\n",
              "      <td>0</td>\n",
              "      <td>1</td>\n",
              "      <td>0</td>\n",
              "      <td>20</td>\n",
              "      <td>100</td>\n",
              "      <td>Ayurveda</td>\n",
              "      <td>1.0</td>\n",
              "      <td>250</td>\n",
              "      <td>Keelkattalai</td>\n",
              "      <td>Chennai</td>\n",
              "    </tr>\n",
              "  </tbody>\n",
              "</table>\n",
              "</div>"
            ],
            "text/plain": [
              "   mbbs  bhms  bams  ...  Fees               Area       City\n",
              "0     0     1     0  ...   100           Kakkanad  Ernakulam\n",
              "1     0     0     1  ...   350         Whitefield  Bangalore\n",
              "2     1     0     0  ...   300    Mathikere - BEL  Bangalore\n",
              "3     0     0     1  ...   250  Bannerghatta Road  Bangalore\n",
              "4     0     0     1  ...   250       Keelkattalai    Chennai\n",
              "\n",
              "[5 rows x 18 columns]"
            ]
          },
          "metadata": {
            "tags": []
          },
          "execution_count": 83
        }
      ]
    },
    {
      "cell_type": "code",
      "metadata": {
        "colab": {
          "base_uri": "https://localhost:8080/",
          "height": 204
        },
        "id": "tyd-KbkH9mFN",
        "outputId": "327e53ef-64af-47db-e3af-e86a496085fc"
      },
      "source": [
        "train.head()"
      ],
      "execution_count": null,
      "outputs": [
        {
          "output_type": "execute_result",
          "data": {
            "text/html": [
              "<div>\n",
              "<style scoped>\n",
              "    .dataframe tbody tr th:only-of-type {\n",
              "        vertical-align: middle;\n",
              "    }\n",
              "\n",
              "    .dataframe tbody tr th {\n",
              "        vertical-align: top;\n",
              "    }\n",
              "\n",
              "    .dataframe thead th {\n",
              "        text-align: right;\n",
              "    }\n",
              "</style>\n",
              "<table border=\"1\" class=\"dataframe\">\n",
              "  <thead>\n",
              "    <tr style=\"text-align: right;\">\n",
              "      <th></th>\n",
              "      <th>mbbs</th>\n",
              "      <th>bhms</th>\n",
              "      <th>bams</th>\n",
              "      <th>ddvl</th>\n",
              "      <th>dlo</th>\n",
              "      <th>mlo</th>\n",
              "      <th>dnb</th>\n",
              "      <th>bds</th>\n",
              "      <th>md</th>\n",
              "      <th>ms</th>\n",
              "      <th>fellowship</th>\n",
              "      <th>Experience</th>\n",
              "      <th>Rating</th>\n",
              "      <th>Profile</th>\n",
              "      <th>Miscellaneous_Info</th>\n",
              "      <th>Fees</th>\n",
              "      <th>Area</th>\n",
              "      <th>City</th>\n",
              "    </tr>\n",
              "  </thead>\n",
              "  <tbody>\n",
              "    <tr>\n",
              "      <th>0</th>\n",
              "      <td>0</td>\n",
              "      <td>1</td>\n",
              "      <td>0</td>\n",
              "      <td>0</td>\n",
              "      <td>0</td>\n",
              "      <td>0</td>\n",
              "      <td>0</td>\n",
              "      <td>0</td>\n",
              "      <td>1</td>\n",
              "      <td>1</td>\n",
              "      <td>0</td>\n",
              "      <td>24</td>\n",
              "      <td>100</td>\n",
              "      <td>Homeopath</td>\n",
              "      <td>1.0</td>\n",
              "      <td>100</td>\n",
              "      <td>Kakkanad</td>\n",
              "      <td>Ernakulam</td>\n",
              "    </tr>\n",
              "    <tr>\n",
              "      <th>1</th>\n",
              "      <td>0</td>\n",
              "      <td>0</td>\n",
              "      <td>1</td>\n",
              "      <td>0</td>\n",
              "      <td>0</td>\n",
              "      <td>0</td>\n",
              "      <td>0</td>\n",
              "      <td>0</td>\n",
              "      <td>1</td>\n",
              "      <td>1</td>\n",
              "      <td>0</td>\n",
              "      <td>12</td>\n",
              "      <td>98</td>\n",
              "      <td>Ayurveda</td>\n",
              "      <td>1.0</td>\n",
              "      <td>350</td>\n",
              "      <td>Whitefield</td>\n",
              "      <td>Bangalore</td>\n",
              "    </tr>\n",
              "    <tr>\n",
              "      <th>2</th>\n",
              "      <td>1</td>\n",
              "      <td>0</td>\n",
              "      <td>0</td>\n",
              "      <td>0</td>\n",
              "      <td>0</td>\n",
              "      <td>0</td>\n",
              "      <td>0</td>\n",
              "      <td>0</td>\n",
              "      <td>0</td>\n",
              "      <td>1</td>\n",
              "      <td>0</td>\n",
              "      <td>9</td>\n",
              "      <td>-99999</td>\n",
              "      <td>ENT Specialist</td>\n",
              "      <td>0.0</td>\n",
              "      <td>300</td>\n",
              "      <td>Mathikere - BEL</td>\n",
              "      <td>Bangalore</td>\n",
              "    </tr>\n",
              "    <tr>\n",
              "      <th>3</th>\n",
              "      <td>0</td>\n",
              "      <td>0</td>\n",
              "      <td>1</td>\n",
              "      <td>0</td>\n",
              "      <td>0</td>\n",
              "      <td>0</td>\n",
              "      <td>0</td>\n",
              "      <td>0</td>\n",
              "      <td>0</td>\n",
              "      <td>1</td>\n",
              "      <td>0</td>\n",
              "      <td>12</td>\n",
              "      <td>-99999</td>\n",
              "      <td>Ayurveda</td>\n",
              "      <td>1.0</td>\n",
              "      <td>250</td>\n",
              "      <td>Bannerghatta Road</td>\n",
              "      <td>Bangalore</td>\n",
              "    </tr>\n",
              "    <tr>\n",
              "      <th>4</th>\n",
              "      <td>0</td>\n",
              "      <td>0</td>\n",
              "      <td>1</td>\n",
              "      <td>0</td>\n",
              "      <td>0</td>\n",
              "      <td>0</td>\n",
              "      <td>0</td>\n",
              "      <td>0</td>\n",
              "      <td>0</td>\n",
              "      <td>1</td>\n",
              "      <td>0</td>\n",
              "      <td>20</td>\n",
              "      <td>100</td>\n",
              "      <td>Ayurveda</td>\n",
              "      <td>1.0</td>\n",
              "      <td>250</td>\n",
              "      <td>Keelkattalai</td>\n",
              "      <td>Chennai</td>\n",
              "    </tr>\n",
              "  </tbody>\n",
              "</table>\n",
              "</div>"
            ],
            "text/plain": [
              "   mbbs  bhms  bams  ...  Fees               Area       City\n",
              "0     0     1     0  ...   100           Kakkanad  Ernakulam\n",
              "1     0     0     1  ...   350         Whitefield  Bangalore\n",
              "2     1     0     0  ...   300    Mathikere - BEL  Bangalore\n",
              "3     0     0     1  ...   250  Bannerghatta Road  Bangalore\n",
              "4     0     0     1  ...   250       Keelkattalai    Chennai\n",
              "\n",
              "[5 rows x 18 columns]"
            ]
          },
          "metadata": {
            "tags": []
          },
          "execution_count": 84
        }
      ]
    },
    {
      "cell_type": "markdown",
      "metadata": {
        "id": "cmK8qlAg42Ub"
      },
      "source": [
        "# Exploratory Data analysis"
      ]
    },
    {
      "cell_type": "code",
      "metadata": {
        "id": "HlYlCJSL6Ix4"
      },
      "source": [
        "profile=train['Profile'].value_counts().index\n",
        "Area=train['Area'].value_counts().index\n",
        "City=train['City'].value_counts().index"
      ],
      "execution_count": null,
      "outputs": []
    },
    {
      "cell_type": "markdown",
      "metadata": {
        "id": "y-GhyJxXGEEo"
      },
      "source": [
        "**Qualification**"
      ]
    },
    {
      "cell_type": "code",
      "metadata": {
        "colab": {
          "base_uri": "https://localhost:8080/",
          "height": 497
        },
        "id": "PRJZx-amGHSa",
        "outputId": "8ebbdbfe-89e6-449a-8bc4-01e40cf42613"
      },
      "source": [
        "col1=['mbbs','bhms','bams','ddvl','dlo','dnb','bds','md','ms','fellowship']\n",
        "lab=['has degree','no degree']\n",
        "fig,axes=plt.subplots(2,5,figsize=(15,8))\n",
        "fig.suptitle('Qualification',fontsize=20)\n",
        "k=1\n",
        "for col in col1:\n",
        "  arr=[]\n",
        "  for i in range(2):\n",
        "    x=train[train[col]==i]\n",
        "    arr.append(np.mean(x['Fees']))\n",
        "  plt.subplot(2,5,k)\n",
        "  k+=1 \n",
        "  plt.title(col)\n",
        "  plt.pie(arr,labels=lab)\n",
        "plt.show()"
      ],
      "execution_count": null,
      "outputs": [
        {
          "output_type": "display_data",
          "data": {
            "image/png": "[encoded data removed]",
            "text/plain": [
              "<Figure size 1080x576 with 10 Axes>"
            ]
          },
          "metadata": {
            "tags": []
          }
        }
      ]
    },
    {
      "cell_type": "markdown",
      "metadata": {
        "id": "ctrLq8ebNHBs"
      },
      "source": [
        "It is not showing a greater influence of any singular degree . So we are going to sum up and check again."
      ]
    },
    {
      "cell_type": "code",
      "metadata": {
        "id": "adf9ruRPNQsk"
      },
      "source": [
        "col2=['mbbs','bhms','bams','ddvl','dlo','mlo','dnb','bds','md','ms','fellowship']\n",
        "summ=np.zeros(len(train))\n",
        "for i in col2:\n",
        "  arr=train[i]\n",
        "  summ=np.add(summ,arr)\n",
        "temp_df=pd.DataFrame({'qual':summ,'fees':train['Fees']})     # created a dataframe adding all the qualifications into one.\n"
      ],
      "execution_count": null,
      "outputs": []
    },
    {
      "cell_type": "code",
      "metadata": {
        "colab": {
          "base_uri": "https://localhost:8080/",
          "height": 282
        },
        "id": "pknSrHmsPlLM",
        "outputId": "0eb67581-23dc-4489-b658-d3a44aee6616"
      },
      "source": [
        "plt.scatter(temp_df['qual'],temp_df['fees'])"
      ],
      "execution_count": null,
      "outputs": [
        {
          "output_type": "execute_result",
          "data": {
            "text/plain": [
              "<matplotlib.collections.PathCollection at 0x7fe71e0184a8>"
            ]
          },
          "metadata": {
            "tags": []
          },
          "execution_count": 88
        },
        {
          "output_type": "display_data",
          "data": {
            "image/png": "[encoded data removed]",
            "text/plain": [
              "<Figure size 432x288 with 1 Axes>"
            ]
          },
          "metadata": {
            "tags": [],
            "needs_background": "light"
          }
        }
      ]
    },
    {
      "cell_type": "code",
      "metadata": {
        "colab": {
          "base_uri": "https://localhost:8080/",
          "height": 455
        },
        "id": "c6T-SF2rRodr",
        "outputId": "30134d99-e7c1-4b76-bd23-3b0548ebd84e"
      },
      "source": [
        "sns.catplot(x='qual',y='fees', data=temp_df.sort_values(\"fees\"),kind='box',height=6,aspect= 1.5,color='r')\n",
        "plt.show()"
      ],
      "execution_count": null,
      "outputs": [
        {
          "output_type": "display_data",
          "data": {
            "image/png": "[encoded data removed]",
            "text/plain": [
              "<Figure size 648x432 with 1 Axes>"
            ]
          },
          "metadata": {
            "tags": [],
            "needs_background": "light"
          }
        }
      ]
    },
    {
      "cell_type": "markdown",
      "metadata": {
        "id": "5A8WVlJrR6rz"
      },
      "source": [
        "This catplot shows that the charges also vary with the total qualification of the doctors. They increase with increase in number of degrees."
      ]
    },
    {
      "cell_type": "markdown",
      "metadata": {
        "id": "D4xHJDRD5LDg"
      },
      "source": [
        "**Profile**"
      ]
    },
    {
      "cell_type": "code",
      "metadata": {
        "colab": {
          "base_uri": "https://localhost:8080/",
          "height": 336
        },
        "id": "BMemXxxW5MD7",
        "outputId": "46dcc823-eb62-4609-bb9f-d09cd0ecf104"
      },
      "source": [
        "plt.figure(figsize=(15,5))\n",
        "plt.title('Profile Analysis')\n",
        "\n",
        "plt.scatter(train['Profile'],train['Fees'],s=2)\n",
        "plt.show()"
      ],
      "execution_count": null,
      "outputs": [
        {
          "output_type": "display_data",
          "data": {
            "image/png": "[encoded data removed]",
            "text/plain": [
              "<Figure size 1080x360 with 1 Axes>"
            ]
          },
          "metadata": {
            "tags": [],
            "needs_background": "light"
          }
        }
      ]
    },
    {
      "cell_type": "code",
      "metadata": {
        "colab": {
          "base_uri": "https://localhost:8080/",
          "height": 264
        },
        "id": "d6bpJREKMnXr",
        "outputId": "4fa47d03-fbe4-420f-dddf-8c1ac48a94c5"
      },
      "source": [
        "arr=[]\n",
        "for i in profile:\n",
        "  x=train[train['Profile']==i]\n",
        "  arr.append(np.mean(x['Fees']))\n",
        "plt.title('average fees')\n",
        "plt.pie(arr,labels=profile)\n",
        "plt.show()"
      ],
      "execution_count": null,
      "outputs": [
        {
          "output_type": "display_data",
          "data": {
            "image/png": "[encoded data removed]",
            "text/plain": [
              "<Figure size 432x288 with 1 Axes>"
            ]
          },
          "metadata": {
            "tags": []
          }
        }
      ]
    },
    {
      "cell_type": "markdown",
      "metadata": {
        "id": "KJorgeh6ODkT"
      },
      "source": [
        "It states that '*Ayurveda*' doctors earns some less than others.\n",
        "\n",
        "whereas the '*Dermatologists*' and the '*ENT*' specialists are earning more."
      ]
    },
    {
      "cell_type": "markdown",
      "metadata": {
        "id": "6ibrFsmeOZ-7"
      },
      "source": [
        "**Experience**"
      ]
    },
    {
      "cell_type": "code",
      "metadata": {
        "colab": {
          "base_uri": "https://localhost:8080/",
          "height": 336
        },
        "id": "Z6R_X-nmOhTT",
        "outputId": "642c842c-5455-4469-9a49-84faf2377aaa"
      },
      "source": [
        "plt.figure(figsize=(15,5))\n",
        "plt.title('Experience Analysis')\n",
        "\n",
        "plt.scatter(train['Experience'],train['Fees'],s=2)\n",
        "plt.show()"
      ],
      "execution_count": null,
      "outputs": [
        {
          "output_type": "display_data",
          "data": {
            "image/png": "[encoded data removed]",
            "text/plain": [
              "<Figure size 1080x360 with 1 Axes>"
            ]
          },
          "metadata": {
            "tags": [],
            "needs_background": "light"
          }
        }
      ]
    },
    {
      "cell_type": "markdown",
      "metadata": {
        "id": "A5Pgu1jaPRfj"
      },
      "source": [
        "The experience doesn't look quite corelated with the fees."
      ]
    },
    {
      "cell_type": "markdown",
      "metadata": {
        "id": "H5znLVLTR_MD"
      },
      "source": [
        "**Area**"
      ]
    },
    {
      "cell_type": "code",
      "metadata": {
        "colab": {
          "base_uri": "https://localhost:8080/",
          "height": 465
        },
        "id": "C-gqOGSlSA_T",
        "outputId": "e94d8fb2-7a52-4082-b866-b4d6f9c867d7"
      },
      "source": [
        "plt.figure(figsize=(15,5))\n",
        "plt.title('Fees on area Analysis')\n",
        "\n",
        "plt.scatter(train['Area'],train['Fees'],s=2)\n",
        "plt.xticks(rotation=270)\n",
        "plt.show()"
      ],
      "execution_count": null,
      "outputs": [
        {
          "output_type": "display_data",
          "data": {
            "image/png": "[encoded data removed]",
            "text/plain": [
              "<Figure size 1080x360 with 1 Axes>"
            ]
          },
          "metadata": {
            "tags": [],
            "needs_background": "light"
          }
        }
      ]
    },
    {
      "cell_type": "markdown",
      "metadata": {
        "id": "9pKvththSZEH"
      },
      "source": [
        "Already the curve shows that this features doesn't varies on wages."
      ]
    },
    {
      "cell_type": "markdown",
      "metadata": {
        "id": "7Wu-rKO7Stjn"
      },
      "source": [
        "**City**"
      ]
    },
    {
      "cell_type": "code",
      "metadata": {
        "colab": {
          "base_uri": "https://localhost:8080/",
          "height": 507
        },
        "id": "OdZGReoSSs1M",
        "outputId": "c9711f64-0471-4be7-8114-09e665f1ac83"
      },
      "source": [
        "sns.catplot(x='City',y='Fees', data=train.sort_values(\"Fees\"),kind='box',height=6,aspect= 1.5,color='b')\n",
        "plt.xticks(rotation=30)\n",
        "plt.show()"
      ],
      "execution_count": null,
      "outputs": [
        {
          "output_type": "display_data",
          "data": {
            "image/png": "[encoded data removed]",
            "text/plain": [
              "<Figure size 648x432 with 1 Axes>"
            ]
          },
          "metadata": {
            "tags": [],
            "needs_background": "light"
          }
        }
      ]
    },
    {
      "cell_type": "code",
      "metadata": {
        "colab": {
          "base_uri": "https://localhost:8080/",
          "height": 264
        },
        "id": "WT4yjlaWTAEP",
        "outputId": "ee23fe29-d583-4437-d1bc-d8229f7c9531"
      },
      "source": [
        "arr=[]\n",
        "for i in City:\n",
        "  x=train[train['City']==i]\n",
        "  arr.append(np.mean(x['Fees']))\n",
        "plt.title('average fees')\n",
        "plt.pie(arr,labels=City)\n",
        "plt.show()"
      ],
      "execution_count": null,
      "outputs": [
        {
          "output_type": "display_data",
          "data": {
            "image/png": "[encoded data removed]",
            "text/plain": [
              "<Figure size 432x288 with 1 Axes>"
            ]
          },
          "metadata": {
            "tags": []
          }
        }
      ]
    },
    {
      "cell_type": "markdown",
      "metadata": {
        "id": "WVdKscaSTMO0"
      },
      "source": [
        "It shows that the cities are highly correlated with the wages or charges of the doctor."
      ]
    },
    {
      "cell_type": "markdown",
      "metadata": {
        "id": "kuc0_r4MPdHj"
      },
      "source": [
        "**Rating**"
      ]
    },
    {
      "cell_type": "code",
      "metadata": {
        "colab": {
          "base_uri": "https://localhost:8080/",
          "height": 336
        },
        "id": "X2RouWoxPkpD",
        "outputId": "4714d4fa-c091-4724-8f64-6fa791c8973d"
      },
      "source": [
        "xx=train[train['Rating']>=0.0]\n",
        "plt.figure(figsize=(15,5))\n",
        "plt.title('Rating Analysis')\n",
        "\n",
        "plt.scatter(xx['Rating'],xx['Fees'],s=2)\n",
        "plt.show()"
      ],
      "execution_count": null,
      "outputs": [
        {
          "output_type": "display_data",
          "data": {
            "image/png": "[encoded data removed]",
            "text/plain": [
              "<Figure size 1080x360 with 1 Axes>"
            ]
          },
          "metadata": {
            "tags": [],
            "needs_background": "light"
          }
        }
      ]
    },
    {
      "cell_type": "markdown",
      "metadata": {
        "id": "YVR9XRKCP24h"
      },
      "source": [
        "Similarly the rating is aslo not giving high correlation with features."
      ]
    },
    {
      "cell_type": "markdown",
      "metadata": {
        "id": "30jK7aO8Qc2j"
      },
      "source": [
        "**Miscellaneous Info**"
      ]
    },
    {
      "cell_type": "code",
      "metadata": {
        "colab": {
          "base_uri": "https://localhost:8080/",
          "height": 264
        },
        "id": "u5kf3mlNQjpb",
        "outputId": "9c6ac485-58a4-4584-c292-c54a5adaac72"
      },
      "source": [
        "arr=[]\n",
        "for i in range(2):\n",
        "  x=train[train['Miscellaneous_Info']==i]\n",
        "  arr.append(np.mean(x['Fees']))\n",
        "plt.title('Other information Analysis')\n",
        "lab=['no info','has info']\n",
        "\n",
        "plt.pie(arr,labels=lab)\n",
        "plt.show()"
      ],
      "execution_count": null,
      "outputs": [
        {
          "output_type": "display_data",
          "data": {
            "image/png": "[encoded data removed]",
            "text/plain": [
              "<Figure size 432x288 with 1 Axes>"
            ]
          },
          "metadata": {
            "tags": []
          }
        }
      ]
    },
    {
      "cell_type": "markdown",
      "metadata": {
        "id": "jeu-VGcvReoP"
      },
      "source": [
        "It is seen that the soctors having other info charges more than others."
      ]
    },
    {
      "cell_type": "markdown",
      "metadata": {
        "id": "8W78VdqfS2l2"
      },
      "source": [
        "#### Final Pre-processing \n",
        "\n",
        "We've seen that the qualifications are not informative as segragated but when treated as one. so we are going to drop those features and add a summed version to it."
      ]
    },
    {
      "cell_type": "code",
      "metadata": {
        "colab": {
          "base_uri": "https://localhost:8080/",
          "height": 204
        },
        "id": "b8KG2PWNTH0q",
        "outputId": "c2f8b701-5f3c-48dd-b7a5-1426ecae23a3"
      },
      "source": [
        "train.drop(labels=col2,axis=1,inplace=True)\n",
        "qual=temp_df['qual']                                         # for train data\n",
        "qual=to_df(qual)\n",
        "train=pd.concat([qual,train],axis=1)\n",
        "train.head()"
      ],
      "execution_count": null,
      "outputs": [
        {
          "output_type": "execute_result",
          "data": {
            "text/html": [
              "<div>\n",
              "<style scoped>\n",
              "    .dataframe tbody tr th:only-of-type {\n",
              "        vertical-align: middle;\n",
              "    }\n",
              "\n",
              "    .dataframe tbody tr th {\n",
              "        vertical-align: top;\n",
              "    }\n",
              "\n",
              "    .dataframe thead th {\n",
              "        text-align: right;\n",
              "    }\n",
              "</style>\n",
              "<table border=\"1\" class=\"dataframe\">\n",
              "  <thead>\n",
              "    <tr style=\"text-align: right;\">\n",
              "      <th></th>\n",
              "      <th>qual</th>\n",
              "      <th>Experience</th>\n",
              "      <th>Rating</th>\n",
              "      <th>Profile</th>\n",
              "      <th>Miscellaneous_Info</th>\n",
              "      <th>Fees</th>\n",
              "      <th>Area</th>\n",
              "      <th>City</th>\n",
              "    </tr>\n",
              "  </thead>\n",
              "  <tbody>\n",
              "    <tr>\n",
              "      <th>0</th>\n",
              "      <td>3.0</td>\n",
              "      <td>24</td>\n",
              "      <td>100</td>\n",
              "      <td>Homeopath</td>\n",
              "      <td>1.0</td>\n",
              "      <td>100</td>\n",
              "      <td>Kakkanad</td>\n",
              "      <td>Ernakulam</td>\n",
              "    </tr>\n",
              "    <tr>\n",
              "      <th>1</th>\n",
              "      <td>3.0</td>\n",
              "      <td>12</td>\n",
              "      <td>98</td>\n",
              "      <td>Ayurveda</td>\n",
              "      <td>1.0</td>\n",
              "      <td>350</td>\n",
              "      <td>Whitefield</td>\n",
              "      <td>Bangalore</td>\n",
              "    </tr>\n",
              "    <tr>\n",
              "      <th>2</th>\n",
              "      <td>2.0</td>\n",
              "      <td>9</td>\n",
              "      <td>-99999</td>\n",
              "      <td>ENT Specialist</td>\n",
              "      <td>0.0</td>\n",
              "      <td>300</td>\n",
              "      <td>Mathikere - BEL</td>\n",
              "      <td>Bangalore</td>\n",
              "    </tr>\n",
              "    <tr>\n",
              "      <th>3</th>\n",
              "      <td>2.0</td>\n",
              "      <td>12</td>\n",
              "      <td>-99999</td>\n",
              "      <td>Ayurveda</td>\n",
              "      <td>1.0</td>\n",
              "      <td>250</td>\n",
              "      <td>Bannerghatta Road</td>\n",
              "      <td>Bangalore</td>\n",
              "    </tr>\n",
              "    <tr>\n",
              "      <th>4</th>\n",
              "      <td>2.0</td>\n",
              "      <td>20</td>\n",
              "      <td>100</td>\n",
              "      <td>Ayurveda</td>\n",
              "      <td>1.0</td>\n",
              "      <td>250</td>\n",
              "      <td>Keelkattalai</td>\n",
              "      <td>Chennai</td>\n",
              "    </tr>\n",
              "  </tbody>\n",
              "</table>\n",
              "</div>"
            ],
            "text/plain": [
              "   qual  Experience  Rating  ... Fees               Area       City\n",
              "0   3.0          24     100  ...  100           Kakkanad  Ernakulam\n",
              "1   3.0          12      98  ...  350         Whitefield  Bangalore\n",
              "2   2.0           9  -99999  ...  300    Mathikere - BEL  Bangalore\n",
              "3   2.0          12  -99999  ...  250  Bannerghatta Road  Bangalore\n",
              "4   2.0          20     100  ...  250       Keelkattalai    Chennai\n",
              "\n",
              "[5 rows x 8 columns]"
            ]
          },
          "metadata": {
            "tags": []
          },
          "execution_count": 98
        }
      ]
    },
    {
      "cell_type": "code",
      "metadata": {
        "colab": {
          "base_uri": "https://localhost:8080/",
          "height": 204
        },
        "id": "Qb3INmTVWUhS",
        "outputId": "b4bedb66-5335-4988-b5b5-53ba89e89c9a"
      },
      "source": [
        "summ=np.zeros(len(test))\n",
        "for i in col2:\n",
        "  arr=test[i]\n",
        "  summ=np.add(summ,arr)\n",
        "temp_df=pd.DataFrame({'qual':summ})\n",
        "test.drop(labels=col2,axis=1,inplace=True)\n",
        "test=pd.concat([temp_df,test],axis=1)\n",
        "test.head()"
      ],
      "execution_count": null,
      "outputs": [
        {
          "output_type": "execute_result",
          "data": {
            "text/html": [
              "<div>\n",
              "<style scoped>\n",
              "    .dataframe tbody tr th:only-of-type {\n",
              "        vertical-align: middle;\n",
              "    }\n",
              "\n",
              "    .dataframe tbody tr th {\n",
              "        vertical-align: top;\n",
              "    }\n",
              "\n",
              "    .dataframe thead th {\n",
              "        text-align: right;\n",
              "    }\n",
              "</style>\n",
              "<table border=\"1\" class=\"dataframe\">\n",
              "  <thead>\n",
              "    <tr style=\"text-align: right;\">\n",
              "      <th></th>\n",
              "      <th>qual</th>\n",
              "      <th>Experience</th>\n",
              "      <th>Rating</th>\n",
              "      <th>Profile</th>\n",
              "      <th>Miscellaneous_Info</th>\n",
              "      <th>Area</th>\n",
              "      <th>City</th>\n",
              "    </tr>\n",
              "  </thead>\n",
              "  <tbody>\n",
              "    <tr>\n",
              "      <th>0</th>\n",
              "      <td>1.0</td>\n",
              "      <td>35</td>\n",
              "      <td>-99999</td>\n",
              "      <td>General Medicine</td>\n",
              "      <td>0.0</td>\n",
              "      <td>Ghatkopar East</td>\n",
              "      <td>Mumbai</td>\n",
              "    </tr>\n",
              "    <tr>\n",
              "      <th>1</th>\n",
              "      <td>2.0</td>\n",
              "      <td>31</td>\n",
              "      <td>-99999</td>\n",
              "      <td>ENT Specialist</td>\n",
              "      <td>0.0</td>\n",
              "      <td>West Marredpally</td>\n",
              "      <td>Hyderabad</td>\n",
              "    </tr>\n",
              "    <tr>\n",
              "      <th>2</th>\n",
              "      <td>2.0</td>\n",
              "      <td>40</td>\n",
              "      <td>70</td>\n",
              "      <td>Dermatologists</td>\n",
              "      <td>1.0</td>\n",
              "      <td>KK Nagar</td>\n",
              "      <td>Chennai</td>\n",
              "    </tr>\n",
              "    <tr>\n",
              "      <th>3</th>\n",
              "      <td>2.0</td>\n",
              "      <td>0</td>\n",
              "      <td>-99999</td>\n",
              "      <td>Ayurveda</td>\n",
              "      <td>0.0</td>\n",
              "      <td>New Ashok Nagar</td>\n",
              "      <td>Delhi</td>\n",
              "    </tr>\n",
              "    <tr>\n",
              "      <th>4</th>\n",
              "      <td>2.0</td>\n",
              "      <td>16</td>\n",
              "      <td>100</td>\n",
              "      <td>Dentist</td>\n",
              "      <td>1.0</td>\n",
              "      <td>Kanakpura Road</td>\n",
              "      <td>Bangalore</td>\n",
              "    </tr>\n",
              "  </tbody>\n",
              "</table>\n",
              "</div>"
            ],
            "text/plain": [
              "   qual  Experience  Rating  ... Miscellaneous_Info              Area       City\n",
              "0   1.0          35  -99999  ...                0.0    Ghatkopar East     Mumbai\n",
              "1   2.0          31  -99999  ...                0.0  West Marredpally  Hyderabad\n",
              "2   2.0          40      70  ...                1.0          KK Nagar    Chennai\n",
              "3   2.0           0  -99999  ...                0.0   New Ashok Nagar      Delhi\n",
              "4   2.0          16     100  ...                1.0    Kanakpura Road  Bangalore\n",
              "\n",
              "[5 rows x 7 columns]"
            ]
          },
          "metadata": {
            "tags": []
          },
          "execution_count": 99
        }
      ]
    },
    {
      "cell_type": "markdown",
      "metadata": {
        "id": "kqgQRk2GMDX7"
      },
      "source": [
        "### Encoding"
      ]
    },
    {
      "cell_type": "code",
      "metadata": {
        "colab": {
          "base_uri": "https://localhost:8080/"
        },
        "id": "-TRd-lTpLIiM",
        "outputId": "b6fe1572-dbf1-42b7-a4ff-b7f0bdb1a6ae"
      },
      "source": [
        "profile"
      ],
      "execution_count": null,
      "outputs": [
        {
          "output_type": "execute_result",
          "data": {
            "text/plain": [
              "Index(['Dentist', 'General Medicine', 'Dermatologists', 'Homeopath',\n",
              "       'Ayurveda', 'ENT Specialist'],\n",
              "      dtype='object')"
            ]
          },
          "metadata": {
            "tags": []
          },
          "execution_count": 100
        }
      ]
    },
    {
      "cell_type": "code",
      "metadata": {
        "id": "vX9xTyQn6psh"
      },
      "source": [
        "def encode(str):\n",
        "  scaler=LabelEncoder()\n",
        "  ar1=train[str]\n",
        "  ar1=scaler.fit_transform(ar1)\n",
        "  train[str]=ar1\n",
        "  ar2=test[str]\n",
        "  ar2=scaler.transform(ar2)\n",
        "  test[str]=ar2\n",
        "    "
      ],
      "execution_count": null,
      "outputs": []
    },
    {
      "cell_type": "code",
      "metadata": {
        "id": "JULkR0JD8SSj"
      },
      "source": [
        "encode('Profile')\n",
        "encode('City')"
      ],
      "execution_count": null,
      "outputs": []
    },
    {
      "cell_type": "code",
      "metadata": {
        "colab": {
          "base_uri": "https://localhost:8080/"
        },
        "id": "wAFB1a6LXIWB",
        "outputId": "2cde2ba2-1650-4331-b265-6f78be515c6e"
      },
      "source": [
        "x1=train['Area']\n",
        "x2=test['Area']\n",
        "try:\n",
        "  encode('Area')\n",
        "except:\n",
        "  print('ERROR ! New area token found in test.')\n",
        "  train['Area']=x1\n",
        "  test['Area']=x2"
      ],
      "execution_count": null,
      "outputs": [
        {
          "output_type": "stream",
          "text": [
            "ERROR ! New area token found in test.\n"
          ],
          "name": "stdout"
        }
      ]
    },
    {
      "cell_type": "markdown",
      "metadata": {
        "id": "1mQ6D4Vy_PoL"
      },
      "source": [
        "The area has one extra data in test so we are manually encoding the 'area'."
      ]
    },
    {
      "cell_type": "code",
      "metadata": {
        "id": "mdioDp3I_ZaN"
      },
      "source": [
        "xx=train['Area'].value_counts().index\n",
        "xy=test['Area'].value_counts().index\n",
        "xx=to_df(xx)\n",
        "xy=to_df(xy)"
      ],
      "execution_count": null,
      "outputs": []
    },
    {
      "cell_type": "code",
      "metadata": {
        "id": "wl3TeNdntPMM"
      },
      "source": [
        "x3=pd.concat([xx,xy],axis=0)\n",
        "x3.columns=['0']\n",
        "a1=x3['0'].value_counts().index\n",
        "i=0\n",
        "for val in a1:\n",
        "  train['Area'].replace(val,int(i),inplace=True)\n",
        "  test['Area'].replace(val,int(i),inplace=True)\n",
        "  i+=1"
      ],
      "execution_count": null,
      "outputs": []
    },
    {
      "cell_type": "code",
      "metadata": {
        "colab": {
          "base_uri": "https://localhost:8080/",
          "height": 204
        },
        "id": "VVU9-48oD3os",
        "outputId": "72127bc7-a3bc-4d56-b08d-77e9cd931bd3"
      },
      "source": [
        "test.head()"
      ],
      "execution_count": null,
      "outputs": [
        {
          "output_type": "execute_result",
          "data": {
            "text/html": [
              "<div>\n",
              "<style scoped>\n",
              "    .dataframe tbody tr th:only-of-type {\n",
              "        vertical-align: middle;\n",
              "    }\n",
              "\n",
              "    .dataframe tbody tr th {\n",
              "        vertical-align: top;\n",
              "    }\n",
              "\n",
              "    .dataframe thead th {\n",
              "        text-align: right;\n",
              "    }\n",
              "</style>\n",
              "<table border=\"1\" class=\"dataframe\">\n",
              "  <thead>\n",
              "    <tr style=\"text-align: right;\">\n",
              "      <th></th>\n",
              "      <th>qual</th>\n",
              "      <th>Experience</th>\n",
              "      <th>Rating</th>\n",
              "      <th>Profile</th>\n",
              "      <th>Miscellaneous_Info</th>\n",
              "      <th>Area</th>\n",
              "      <th>City</th>\n",
              "    </tr>\n",
              "  </thead>\n",
              "  <tbody>\n",
              "    <tr>\n",
              "      <th>0</th>\n",
              "      <td>1.0</td>\n",
              "      <td>35</td>\n",
              "      <td>-99999</td>\n",
              "      <td>4</td>\n",
              "      <td>0.0</td>\n",
              "      <td>175</td>\n",
              "      <td>6</td>\n",
              "    </tr>\n",
              "    <tr>\n",
              "      <th>1</th>\n",
              "      <td>2.0</td>\n",
              "      <td>31</td>\n",
              "      <td>-99999</td>\n",
              "      <td>3</td>\n",
              "      <td>0.0</td>\n",
              "      <td>244</td>\n",
              "      <td>5</td>\n",
              "    </tr>\n",
              "    <tr>\n",
              "      <th>2</th>\n",
              "      <td>2.0</td>\n",
              "      <td>40</td>\n",
              "      <td>70</td>\n",
              "      <td>2</td>\n",
              "      <td>1.0</td>\n",
              "      <td>323</td>\n",
              "      <td>1</td>\n",
              "    </tr>\n",
              "    <tr>\n",
              "      <th>3</th>\n",
              "      <td>2.0</td>\n",
              "      <td>0</td>\n",
              "      <td>-99999</td>\n",
              "      <td>0</td>\n",
              "      <td>0.0</td>\n",
              "      <td>319</td>\n",
              "      <td>3</td>\n",
              "    </tr>\n",
              "    <tr>\n",
              "      <th>4</th>\n",
              "      <td>2.0</td>\n",
              "      <td>16</td>\n",
              "      <td>100</td>\n",
              "      <td>1</td>\n",
              "      <td>1.0</td>\n",
              "      <td>339</td>\n",
              "      <td>0</td>\n",
              "    </tr>\n",
              "  </tbody>\n",
              "</table>\n",
              "</div>"
            ],
            "text/plain": [
              "   qual  Experience  Rating  Profile  Miscellaneous_Info  Area  City\n",
              "0   1.0          35  -99999        4                 0.0   175     6\n",
              "1   2.0          31  -99999        3                 0.0   244     5\n",
              "2   2.0          40      70        2                 1.0   323     1\n",
              "3   2.0           0  -99999        0                 0.0   319     3\n",
              "4   2.0          16     100        1                 1.0   339     0"
            ]
          },
          "metadata": {
            "tags": []
          },
          "execution_count": 106
        }
      ]
    },
    {
      "cell_type": "markdown",
      "metadata": {
        "id": "skYUS5WBdD0o"
      },
      "source": [
        "Now we have encoded and prepared the train and test data for model fitting and evaluation."
      ]
    },
    {
      "cell_type": "markdown",
      "metadata": {
        "id": "ZGzOzyobdKSn"
      },
      "source": [
        "### X and Y generation :\n",
        "\n",
        "we are going to split the X_train and y_train from the train and simply declare the test as X_train as it does not possess any target values."
      ]
    },
    {
      "cell_type": "code",
      "metadata": {
        "id": "w6Q3SC9jdZGY"
      },
      "source": [
        "X_train=train.drop('Fees',1)\n",
        "y_train=train['Fees']\n",
        "X_test=test"
      ],
      "execution_count": null,
      "outputs": []
    },
    {
      "cell_type": "code",
      "metadata": {
        "colab": {
          "base_uri": "https://localhost:8080/"
        },
        "id": "Mr-pUVhRdkEh",
        "outputId": "19731920-fcc3-45b0-dc42-1846134bda38"
      },
      "source": [
        "print('shape of the X and Y s')\n",
        "X_train.shape,y_train.shape,X_test.shape"
      ],
      "execution_count": null,
      "outputs": [
        {
          "output_type": "stream",
          "text": [
            "shape of the X and Y s\n"
          ],
          "name": "stdout"
        },
        {
          "output_type": "execute_result",
          "data": {
            "text/plain": [
              "((5961, 7), (5961,), (1987, 7))"
            ]
          },
          "metadata": {
            "tags": []
          },
          "execution_count": 108
        }
      ]
    },
    {
      "cell_type": "code",
      "metadata": {
        "colab": {
          "base_uri": "https://localhost:8080/"
        },
        "id": "20ALNTvxduM_",
        "outputId": "f28403b6-e833-4903-be97-7d3b7f846e59"
      },
      "source": [
        "print(X_train.info())\n",
        "print(X_test.info())"
      ],
      "execution_count": null,
      "outputs": [
        {
          "output_type": "stream",
          "text": [
            "<class 'pandas.core.frame.DataFrame'>\n",
            "RangeIndex: 5961 entries, 0 to 5960\n",
            "Data columns (total 7 columns):\n",
            " #   Column              Non-Null Count  Dtype  \n",
            "---  ------              --------------  -----  \n",
            " 0   qual                5961 non-null   float64\n",
            " 1   Experience          5961 non-null   int64  \n",
            " 2   Rating              5961 non-null   int64  \n",
            " 3   Profile             5961 non-null   int64  \n",
            " 4   Miscellaneous_Info  5961 non-null   float64\n",
            " 5   Area                5961 non-null   int64  \n",
            " 6   City                5961 non-null   int64  \n",
            "dtypes: float64(2), int64(5)\n",
            "memory usage: 326.1 KB\n",
            "None\n",
            "<class 'pandas.core.frame.DataFrame'>\n",
            "RangeIndex: 1987 entries, 0 to 1986\n",
            "Data columns (total 7 columns):\n",
            " #   Column              Non-Null Count  Dtype  \n",
            "---  ------              --------------  -----  \n",
            " 0   qual                1987 non-null   float64\n",
            " 1   Experience          1987 non-null   int64  \n",
            " 2   Rating              1987 non-null   int64  \n",
            " 3   Profile             1987 non-null   int64  \n",
            " 4   Miscellaneous_Info  1987 non-null   float64\n",
            " 5   Area                1987 non-null   int64  \n",
            " 6   City                1987 non-null   int64  \n",
            "dtypes: float64(2), int64(5)\n",
            "memory usage: 108.8 KB\n",
            "None\n"
          ],
          "name": "stdout"
        }
      ]
    },
    {
      "cell_type": "markdown",
      "metadata": {
        "id": "rqmib2gPd2PA"
      },
      "source": [
        "# Model selection and fitting :\n",
        " We are going to use 3 classifiers.\n",
        "\n",
        " As this is a regression task we are going to take -      ***Random Forest Regressor***"
      ]
    },
    {
      "cell_type": "markdown",
      "metadata": {
        "id": "Lt3g-F14eiDK"
      },
      "source": [
        "**Random Forest**"
      ]
    },
    {
      "cell_type": "code",
      "metadata": {
        "colab": {
          "base_uri": "https://localhost:8080/"
        },
        "id": "ludm0I3geI9p",
        "outputId": "5ba44b84-1c7e-4a3a-d3fc-06e1d3b93dd9"
      },
      "source": [
        "clf=RandomForestRegressor(random_state=0,criterion='mse')\n",
        "clf.fit(X_train,y_train)\n",
        "y_pred=clf.predict(X_train)\n",
        "print('RMSE loss in train :',np.sqrt(mean_squared_error(y_train,y_pred)))"
      ],
      "execution_count": null,
      "outputs": [
        {
          "output_type": "stream",
          "text": [
            "RMSE loss in train : 64.36948527991632\n"
          ],
          "name": "stdout"
        }
      ]
    },
    {
      "cell_type": "code",
      "metadata": {
        "colab": {
          "base_uri": "https://localhost:8080/"
        },
        "id": "-olHskaVfsKQ",
        "outputId": "e3207317-49df-4759-8c35-02fad3c13023"
      },
      "source": [
        "clf.score(X_train,y_train)"
      ],
      "execution_count": null,
      "outputs": [
        {
          "output_type": "execute_result",
          "data": {
            "text/plain": [
              "0.886308398056238"
            ]
          },
          "metadata": {
            "tags": []
          },
          "execution_count": 111
        }
      ]
    },
    {
      "cell_type": "markdown",
      "metadata": {
        "id": "cQfleNxqfMkQ"
      },
      "source": [
        "If we drop the *Area* column we can get :"
      ]
    },
    {
      "cell_type": "code",
      "metadata": {
        "colab": {
          "base_uri": "https://localhost:8080/"
        },
        "id": "CkVVPxI0gTEe",
        "outputId": "c3a84c52-9c76-46f2-8273-27797bc65434"
      },
      "source": [
        "X_tr=X_train.drop('Area',1)\n",
        "clf.fit(X_tr,y_train)\n",
        "y_pred=clf.predict(X_tr)\n",
        "print('RMSE loss in train :',np.sqrt(mean_squared_error(y_train,y_pred)))\n",
        "print('Accuracy of the model :',clf.score(X_tr,y_train))"
      ],
      "execution_count": null,
      "outputs": [
        {
          "output_type": "stream",
          "text": [
            "RMSE loss in train : 99.91901019851863\n",
            "Accuracy of the model : 0.7260542547803678\n"
          ],
          "name": "stdout"
        }
      ]
    },
    {
      "cell_type": "markdown",
      "metadata": {
        "id": "chP3lch3kcx2"
      },
      "source": [
        "We found out that area is a valuable feature for the data ."
      ]
    },
    {
      "cell_type": "code",
      "metadata": {
        "id": "Gvz6tRN9hjO-"
      },
      "source": [
        "X_tr,X_val,y_tr,y_val=train_test_split(X_train,y_train,test_size=0.2,random_state=0)"
      ],
      "execution_count": null,
      "outputs": []
    },
    {
      "cell_type": "code",
      "metadata": {
        "colab": {
          "base_uri": "https://localhost:8080/"
        },
        "id": "aYdVXvLhlN4l",
        "outputId": "cd627c79-69fd-4d9d-9daf-341326f3974b"
      },
      "source": [
        "clf.fit(X_tr,y_tr)\n",
        "y_pred=clf.predict(X_tr)\n",
        "print('RMSE loss in train :',np.sqrt(mean_squared_error(y_tr,y_pred)))\n",
        "y_pred=clf.predict(X_val)\n",
        "print('RMSE loss in validation :',np.sqrt(mean_squared_error(y_val,y_pred)))"
      ],
      "execution_count": null,
      "outputs": [
        {
          "output_type": "stream",
          "text": [
            "RMSE loss in train : 65.69512335172573\n",
            "RMSE loss in validation : 173.4477255539116\n"
          ],
          "name": "stdout"
        }
      ]
    },
    {
      "cell_type": "markdown",
      "metadata": {
        "id": "nYSqhKEElAbL"
      },
      "source": [
        "It shows that the model is not overfitted and we can move forward.\n",
        "\n"
      ]
    },
    {
      "cell_type": "markdown",
      "metadata": {
        "id": "c8avbt4RmSbI"
      },
      "source": [
        "# Output generation or deployment of the project :\n",
        "\n",
        "       1. Now we are going to predict the test data with the model we've build.\n",
        "       2. After that we are going to turn that into a dataframe.\n",
        "       3. Then we will produce a 'sample_submission.csv'\n",
        "\n",
        "\n",
        "and thus our project comes to an **END**."
      ]
    },
    {
      "cell_type": "code",
      "metadata": {
        "id": "2c2tf0zZmR4d"
      },
      "source": [
        "y_prediction=clf.predict(X_test)"
      ],
      "execution_count": null,
      "outputs": []
    },
    {
      "cell_type": "code",
      "metadata": {
        "colab": {
          "base_uri": "https://localhost:8080/"
        },
        "id": "LKipEJsC5f4b",
        "outputId": "16e517fd-bb3b-4b47-ce57-465c4bf748a4"
      },
      "source": [
        "for i in range(len(y_prediction)):\r\n",
        "  print(y_prediction[i])\r\n",
        "  break"
      ],
      "execution_count": null,
      "outputs": [
        {
          "output_type": "stream",
          "text": [
            "181.0\n"
          ],
          "name": "stdout"
        }
      ]
    },
    {
      "cell_type": "markdown",
      "metadata": {
        "id": "-PZskxxx5ppL"
      },
      "source": [
        "This seems that the fees are in float values. But we need them rounded with 50 as all the fees given in the test set are similar to that."
      ]
    },
    {
      "cell_type": "code",
      "metadata": {
        "id": "spnf5yjpp9ni"
      },
      "source": [
        "def rounding(x):\r\n",
        "  m=(x//50)*50\r\n",
        "  if m==x:\r\n",
        "    return int(x/1.0)\r\n",
        "  elif x-m>=25.0:\r\n",
        "    return int((m+50)/1.0)\r\n",
        "  else:\r\n",
        "    return int(m/1.0)"
      ],
      "execution_count": null,
      "outputs": []
    },
    {
      "cell_type": "code",
      "metadata": {
        "colab": {
          "base_uri": "https://localhost:8080/"
        },
        "id": "Jl4P_CQOqwtD",
        "outputId": "f8231379-4535-476c-a1c5-512ec5f87c7d"
      },
      "source": [
        "y_fin=[]\r\n",
        "for i in range(len(y_prediction)):\r\n",
        "  y_fin.append(rounding(y_prediction[i]))\r\n",
        "y_fin=pd.DataFrame({'id':np.arange(1,len(y_fin)+1,1),'Fees':y_fin})\r\n",
        "print(y_fin.head())"
      ],
      "execution_count": null,
      "outputs": [
        {
          "output_type": "stream",
          "text": [
            "   id  Fees\n",
            "0   1   200\n",
            "1   2   500\n",
            "2   3   450\n",
            "3   4   200\n",
            "4   5   250\n"
          ],
          "name": "stdout"
        }
      ]
    },
    {
      "cell_type": "code",
      "metadata": {
        "id": "qAdHuyPcr95w"
      },
      "source": [
        "y_fin.to_csv('final_submission.csv',index=False)"
      ],
      "execution_count": null,
      "outputs": []
    },
    {
      "cell_type": "markdown",
      "metadata": {
        "id": "Hc1wFaTlvoYY"
      },
      "source": [
        "# THE END :)"
      ]
    }
  ]
}